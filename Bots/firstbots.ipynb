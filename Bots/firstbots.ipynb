{
 "cells": [
  {
   "cell_type": "code",
   "execution_count": 2,
   "metadata": {},
   "outputs": [
    {
     "ename": "ModuleNotFoundError",
     "evalue": "No module named 'v1'",
     "output_type": "error",
     "traceback": [
      "\u001b[0;31m---------------------------------------------------------------------------\u001b[0m",
      "\u001b[0;31mModuleNotFoundError\u001b[0m                       Traceback (most recent call last)",
      "\u001b[1;32m/Users/allenbaranov/Desktop/Quoridor/Bots/firstbots.ipynb Cell 1\u001b[0m line \u001b[0;36m<cell line: 5>\u001b[0;34m()\u001b[0m\n\u001b[1;32m      <a href='vscode-notebook-cell:/Users/allenbaranov/Desktop/Quoridor/Bots/firstbots.ipynb#W0sZmlsZQ%3D%3D?line=1'>2</a>\u001b[0m \u001b[39mimport\u001b[39;00m \u001b[39mtorch\u001b[39;00m\n\u001b[1;32m      <a href='vscode-notebook-cell:/Users/allenbaranov/Desktop/Quoridor/Bots/firstbots.ipynb#W0sZmlsZQ%3D%3D?line=3'>4</a>\u001b[0m sys\u001b[39m.\u001b[39mpath\u001b[39m.\u001b[39mappend(\u001b[39m'\u001b[39m\u001b[39m./Implementation\u001b[39m\u001b[39m'\u001b[39m)\n\u001b[0;32m----> <a href='vscode-notebook-cell:/Users/allenbaranov/Desktop/Quoridor/Bots/firstbots.ipynb#W0sZmlsZQ%3D%3D?line=4'>5</a>\u001b[0m \u001b[39mfrom\u001b[39;00m \u001b[39mv1\u001b[39;00m \u001b[39mimport\u001b[39;00m Game\n",
      "\u001b[0;31mModuleNotFoundError\u001b[0m: No module named 'v1'"
     ]
    }
   ],
   "source": [
    "import sys\n",
    "import torch\n",
    "\n",
    "sys.path.append('./Implementation')\n",
    "from v1 import Game"
   ]
  },
  {
   "cell_type": "code",
   "execution_count": 15,
   "metadata": {},
   "outputs": [],
   "source": [
    "# RANDOM BOT # \n",
    "\n",
    "import random\n",
    "import math\n",
    "\n",
    "class QuoridorBot:\n",
    "    def __init__(self, game, player_id):\n",
    "        self.game = game\n",
    "        self.player_id = player_id\n",
    "        self.bot = self.game.players[self.player_id]\n",
    "\n",
    "    def make_move(self):\n",
    "        # Check if it's the bot's turn\n",
    "        if self.game.cur_player != self.player_id:\n",
    "            return False\n",
    "    \n",
    "        done = False\n",
    "        while not done:\n",
    "            if random.choice([\"move\", \"wall\"]) == \"move\":\n",
    "                done = self.make_move_decision()\n",
    "            else:\n",
    "                done = self.make_wall_decision()\n",
    "        return done\n",
    "\n",
    "    def make_move_decision(self):\n",
    "        # Example: Move towards the goal\n",
    "        directions = [(-1, 0), (1, 0), (0, 1), (0, -1), (-1, 1), (-1,-1), (1, -1), (1, 1), (2,0), (-2,0), (0,2), (0,-2)]  # Possible directions\n",
    "        direction = random.choice(directions)\n",
    "        return self.game.perform_action(self.bot, \"move\", direction)\n",
    "\n",
    "    def make_wall_decision(self):\n",
    "        # Example: Place a wall randomly\n",
    "        wall_position = (math.ceil(8*random.uniform(0, 1))+0.5, math.ceil(8*random.uniform(0, 1))+0.5)\n",
    "        wall_orientation = random.choice([\"horizontal\", \"vertical\"])\n",
    "        return self.game.perform_action(self.bot, \"wall\", (wall_position, wall_orientation))"
   ]
  },
  {
   "cell_type": "code",
   "execution_count": 17,
   "metadata": {},
   "outputs": [
    {
     "name": "stdout",
     "output_type": "stream",
     "text": [
      "Moved player 0 to position (5,2)\n",
      "horizontal wall at (6.5,1.5) placed successfully.\n",
      "Moved player 0 to position (5,3)\n",
      "horizontal wall at (5.5,6.5) placed successfully.\n",
      "Moved player 0 to position (5,4)\n",
      "horizontal wall at (7.5,5.5) placed successfully.\n",
      "Moved player 0 to position (5,5)\n",
      "horizontal wall at (3.5,6.5) placed successfully.\n",
      "Moved player 0 to position (5,6)\n",
      "vertical wall at (6.5,6.5) placed successfully.\n",
      "Invalid move for player 0\n",
      "Invalid move for player 0\n",
      "Invalid move for player 0\n",
      "Invalid move for player 0\n"
     ]
    },
    {
     "ename": "KeyboardInterrupt",
     "evalue": "Interrupted by user",
     "output_type": "error",
     "traceback": [
      "\u001b[0;31m---------------------------------------------------------------------------\u001b[0m",
      "\u001b[0;31mKeyboardInterrupt\u001b[0m                         Traceback (most recent call last)",
      "\u001b[1;32m/Users/allenbaranov/Desktop/Quoridor/firstbot.ipynb Cell 3\u001b[0m line \u001b[0;36m<cell line: 4>\u001b[0;34m()\u001b[0m\n\u001b[1;32m      <a href='vscode-notebook-cell:/Users/allenbaranov/Desktop/Quoridor/firstbot.ipynb#W2sZmlsZQ%3D%3D?line=2'>3</a>\u001b[0m p0, p1 \u001b[39m=\u001b[39m game\u001b[39m.\u001b[39mplayers\n\u001b[1;32m      <a href='vscode-notebook-cell:/Users/allenbaranov/Desktop/Quoridor/firstbot.ipynb#W2sZmlsZQ%3D%3D?line=3'>4</a>\u001b[0m \u001b[39mwhile\u001b[39;00m game\u001b[39m.\u001b[39mwinner \u001b[39m==\u001b[39m \u001b[39mNone\u001b[39;00m:\n\u001b[0;32m----> <a href='vscode-notebook-cell:/Users/allenbaranov/Desktop/Quoridor/firstbot.ipynb#W2sZmlsZQ%3D%3D?line=4'>5</a>\u001b[0m     action \u001b[39m=\u001b[39m \u001b[39minput\u001b[39;49m(\u001b[39m\"\u001b[39;49m\u001b[39mPlayer move\u001b[39;49m\u001b[39m\"\u001b[39;49m)\u001b[39m.\u001b[39msplit(\u001b[39m\"\u001b[39m\u001b[39m;\u001b[39m\u001b[39m\"\u001b[39m)\n\u001b[1;32m      <a href='vscode-notebook-cell:/Users/allenbaranov/Desktop/Quoridor/firstbot.ipynb#W2sZmlsZQ%3D%3D?line=5'>6</a>\u001b[0m     action_type \u001b[39m=\u001b[39m action[\u001b[39m0\u001b[39m]\n\u001b[1;32m      <a href='vscode-notebook-cell:/Users/allenbaranov/Desktop/Quoridor/firstbot.ipynb#W2sZmlsZQ%3D%3D?line=6'>7</a>\u001b[0m     action \u001b[39m=\u001b[39m action[\u001b[39m1\u001b[39m]\n",
      "File \u001b[0;32m~/opt/anaconda3/lib/python3.9/site-packages/ipykernel/kernelbase.py:1075\u001b[0m, in \u001b[0;36mKernel.raw_input\u001b[0;34m(self, prompt)\u001b[0m\n\u001b[1;32m   1071\u001b[0m \u001b[39mif\u001b[39;00m \u001b[39mnot\u001b[39;00m \u001b[39mself\u001b[39m\u001b[39m.\u001b[39m_allow_stdin:\n\u001b[1;32m   1072\u001b[0m     \u001b[39mraise\u001b[39;00m StdinNotImplementedError(\n\u001b[1;32m   1073\u001b[0m         \u001b[39m\"\u001b[39m\u001b[39mraw_input was called, but this frontend does not support input requests.\u001b[39m\u001b[39m\"\u001b[39m\n\u001b[1;32m   1074\u001b[0m     )\n\u001b[0;32m-> 1075\u001b[0m \u001b[39mreturn\u001b[39;00m \u001b[39mself\u001b[39;49m\u001b[39m.\u001b[39;49m_input_request(\n\u001b[1;32m   1076\u001b[0m     \u001b[39mstr\u001b[39;49m(prompt),\n\u001b[1;32m   1077\u001b[0m     \u001b[39mself\u001b[39;49m\u001b[39m.\u001b[39;49m_parent_ident[\u001b[39m\"\u001b[39;49m\u001b[39mshell\u001b[39;49m\u001b[39m\"\u001b[39;49m],\n\u001b[1;32m   1078\u001b[0m     \u001b[39mself\u001b[39;49m\u001b[39m.\u001b[39;49mget_parent(\u001b[39m\"\u001b[39;49m\u001b[39mshell\u001b[39;49m\u001b[39m\"\u001b[39;49m),\n\u001b[1;32m   1079\u001b[0m     password\u001b[39m=\u001b[39;49m\u001b[39mFalse\u001b[39;49;00m,\n\u001b[1;32m   1080\u001b[0m )\n",
      "File \u001b[0;32m~/opt/anaconda3/lib/python3.9/site-packages/ipykernel/kernelbase.py:1120\u001b[0m, in \u001b[0;36mKernel._input_request\u001b[0;34m(self, prompt, ident, parent, password)\u001b[0m\n\u001b[1;32m   1117\u001b[0m             \u001b[39mbreak\u001b[39;00m\n\u001b[1;32m   1118\u001b[0m \u001b[39mexcept\u001b[39;00m \u001b[39mKeyboardInterrupt\u001b[39;00m:\n\u001b[1;32m   1119\u001b[0m     \u001b[39m# re-raise KeyboardInterrupt, to truncate traceback\u001b[39;00m\n\u001b[0;32m-> 1120\u001b[0m     \u001b[39mraise\u001b[39;00m \u001b[39mKeyboardInterrupt\u001b[39;00m(\u001b[39m\"\u001b[39m\u001b[39mInterrupted by user\u001b[39m\u001b[39m\"\u001b[39m) \u001b[39mfrom\u001b[39;00m \u001b[39mNone\u001b[39m\n\u001b[1;32m   1121\u001b[0m \u001b[39mexcept\u001b[39;00m \u001b[39mException\u001b[39;00m:\n\u001b[1;32m   1122\u001b[0m     \u001b[39mself\u001b[39m\u001b[39m.\u001b[39mlog\u001b[39m.\u001b[39mwarning(\u001b[39m\"\u001b[39m\u001b[39mInvalid Message:\u001b[39m\u001b[39m\"\u001b[39m, exc_info\u001b[39m=\u001b[39m\u001b[39mTrue\u001b[39;00m)\n",
      "\u001b[0;31mKeyboardInterrupt\u001b[0m: Interrupted by user"
     ]
    }
   ],
   "source": [
    "game = Game()\n",
    "bot = QuoridorBot(game, 1)\n",
    "p0, p1 = game.players\n",
    "while game.winner == None:\n",
    "    action = input(\"Player move\").split(\";\")\n",
    "    action_type = action[0]\n",
    "    action = action[1]\n",
    "    game.perform_action(p0, \"move\", (0,1))\n",
    "    bot.make_move()\n"
   ]
  },
  {
   "cell_type": "code",
   "execution_count": 1,
   "metadata": {},
   "outputs": [],
   "source": [
    "from copy import deepcopy\n",
    "\n",
    "# MINIMAX BOT # \n",
    "\n",
    "import random\n",
    "import math\n",
    "\n",
    "class MiniMaxBot:\n",
    "    def __init__(self, game, player_id):\n",
    "        self.game = game\n",
    "        self.player_id = player_id\n",
    "        self.bot = self.game.players[self.player_id]\n",
    "        self.player = self.game.players[1 - self.player_id]\n",
    "\n",
    "    def make_move(self):\n",
    "        # Check if it's the bot's turn\n",
    "        if self.game.cur_player != self.player_id:\n",
    "            return False\n",
    "\n",
    "        max_min_h = None\n",
    "        best_move = None\n",
    "        for move in self.generate_all_legal_moves(game, bot):\n",
    "            game_copy = deepcopy(self.game)\n",
    "            bot_copy = game_copy.players[self.player_id]\n",
    "            player_copy = game_copy.players[1 - self.player_id]\n",
    "            game_copy.perform_action(bot_copy, move[0], move[1])\n",
    "            min_h = None\n",
    "            for response in self.generate_all_legal_moves(game_copy, player_copy):\n",
    "                game_copy.perform_action(player_copy, response[0], response[1])\n",
    "                x = self.heuristic(game_copy, bot_copy, player_copy)\n",
    "                if min_h == None or min_h < x:\n",
    "                    min_h = x\n",
    "            if max_min_h == None or (max_min_h < min_h):\n",
    "                best_move = move\n",
    "        \n",
    "        self.game.perform_action(bot, best_move[0], best_move[1])\n",
    "                \n",
    "\n",
    "\n",
    "\n",
    "    \n",
    "    def generate_all_legal_moves(self, game, player):\n",
    "        directions = [(-1, 0), (1, 0), (0, 1), (0, -1), (-1, 1), (-1,-1), (1, -1), (1, 1), (2,0), (-2,0), (0,2), (0,-2)]  # Possible directions\n",
    "        walls_pos = [(i+1.5, j+1.5) for i in range(8) for j in range(8)]\n",
    "        for dir in directions:\n",
    "            if game.is_legal_move(player, dir):\n",
    "                yield \"move\", dir\n",
    "\n",
    "        for wall_pos in walls_pos:\n",
    "            if game.is_legal_wall(player, wall_pos, \"vertical\", undo_successful_wall = True):\n",
    "                yield \"wall\", (wall_pos, \"vertical\")\n",
    "            if game.is_legal_wall(player, wall_pos, \"horizontal\", undo_successful_wall = True):\n",
    "                yield \"wall\", (wall_pos, \"horizontal\")\n",
    "\n",
    "    def heuristic(self, game, bot, player):\n",
    "        return game.check_path_to_end(bot)[1] - game.check_path_to_end(player)[1]"
   ]
  }
 ],
 "metadata": {
  "kernelspec": {
   "display_name": "base",
   "language": "python",
   "name": "python3"
  },
  "language_info": {
   "codemirror_mode": {
    "name": "ipython",
    "version": 3
   },
   "file_extension": ".py",
   "mimetype": "text/x-python",
   "name": "python",
   "nbconvert_exporter": "python",
   "pygments_lexer": "ipython3",
   "version": "3.9.12"
  }
 },
 "nbformat": 4,
 "nbformat_minor": 2
}
